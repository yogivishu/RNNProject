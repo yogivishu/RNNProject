{
 "cells": [
  {
   "cell_type": "markdown",
   "metadata": {},
   "source": [
    "# Gesture Recognition\n",
    "In this group project, you are going to build a 3D Conv model that will be able to predict the 5 gestures correctly. Please import the following libraries to get started."
   ]
  },
  {
   "cell_type": "code",
   "execution_count": 33,
   "metadata": {},
   "outputs": [],
   "source": [
    "import numpy as np\n",
    "import os\n",
    "from scipy.misc import imread, imresize\n",
    "import datetime\n",
    "import os"
   ]
  },
  {
   "cell_type": "markdown",
   "metadata": {},
   "source": [
    "We set the random seed so that the results don't vary drastically."
   ]
  },
  {
   "cell_type": "code",
   "execution_count": 34,
   "metadata": {},
   "outputs": [],
   "source": [
    "np.random.seed(30)\n",
    "import random as rn\n",
    "rn.seed(30)\n",
    "from keras import backend as K\n",
    "import tensorflow as tf\n",
    "tf.set_random_seed(30)"
   ]
  },
  {
   "cell_type": "markdown",
   "metadata": {},
   "source": [
    "In this block, you read the folder names for training and validation. You also set the `batch_size` here. Note that you set the batch size in such a way that you are able to use the GPU in full capacity. You keep increasing the batch size until the machine throws an error."
   ]
  },
  {
   "cell_type": "code",
   "execution_count": 35,
   "metadata": {
    "scrolled": true
   },
   "outputs": [],
   "source": [
    "train_doc = np.random.permutation(open('./Project_data/train.csv').readlines())\n",
    "val_doc = np.random.permutation(open('./Project_data/val.csv').readlines())\n",
    "batch_size = 32 #experiment with the batch size"
   ]
  },
  {
   "cell_type": "markdown",
   "metadata": {},
   "source": [
    "## Generator\n",
    "This is one of the most important part of the code. The overall structure of the generator has been given. In the generator, you are going to preprocess the images as you have images of 2 different dimensions as well as create a batch of video frames. You have to experiment with `img_idx`, `y`,`z` and normalization such that you get high accuracy."
   ]
  },
  {
   "cell_type": "code",
   "execution_count": 36,
   "metadata": {},
   "outputs": [],
   "source": [
    "def image_cropping(image):\n",
    "    #h,w,c = image.shape\n",
    "    #starth = h//2-(croph//2)\n",
    "    #startw = w//2-(cropw//2)\n",
    "    if image.shape[0] > 100 and image.shape[1] > 100:\n",
    "        no_rows,no_cols,no_chs=image.shape\n",
    "        if no_rows == 120 and no_cols == 160:\n",
    "            image = image[0:120,20:140]\n",
    "        elif no_rows == 360 and no_cols == 360:\n",
    "            image = image[0:360:3,0:360:3]\n",
    "            \n",
    "    return image"
   ]
  },
  {
   "cell_type": "code",
   "execution_count": 37,
   "metadata": {},
   "outputs": [],
   "source": [
    "from skimage.transform import rescale\n",
    "def normalize_img(img):\n",
    "    img = (img - np.min(img))/(np.max(img) - np.min(img))\n",
    "    #img = rescale(img, 0.25, multichannel=True, mode='constant')\n",
    "    return img"
   ]
  },
  {
   "cell_type": "code",
   "execution_count": 38,
   "metadata": {},
   "outputs": [],
   "source": [
    "img_idx = [n for n in range(0,30,2)]\n",
    "#img_idx = [n for n in range(30)]\n",
    "#img_idx = [n for n in range(5,25,1)]\n",
    "\n",
    "img_row = 120\n",
    "img_col = 120\n"
   ]
  },
  {
   "cell_type": "code",
   "execution_count": 39,
   "metadata": {},
   "outputs": [],
   "source": [
    "def generator(source_path, folder_list, batch_size):\n",
    "    print( 'Source path = ', source_path, '; batch size =', batch_size)\n",
    "    print('length of folder list = ', len(folder_list))\n",
    "    \n",
    "    #img_idx = [0,3,5,7,10,13,15,18,20,23,27] #create a list of image numbers you want to use for a particular video\n",
    "    #img_idx = [7,8,9,10,11,12,13,14,15,19,20,21,22,23,24]\n",
    "    x = len(img_idx)\n",
    "    y = img_row\n",
    "    z = img_col\n",
    "\n",
    "    while True:\n",
    "        t = np.random.permutation(folder_list)\n",
    "        num_batches = len(folder_list)//batch_size # calculate the number of batches\n",
    "        for batch in range(num_batches): # we iterate over the number of batches\n",
    "            batch_data = np.zeros((batch_size,x,y,z,3)) # x is the number of images you use for each video, (y,z) is the final size of the input images and 3 is the number of channels RGB\n",
    "            batch_labels = np.zeros((batch_size,5)) # batch_labels is the one hot representation of the output\n",
    "            for folder in range(batch_size): # iterate over the batch_size\n",
    "                imgs = os.listdir(source_path+'/'+ t[folder + (batch*batch_size)].split(';')[0]) # read all the images in the folder\n",
    "                for idx,item in enumerate(img_idx): #  Iterate iver the frames/images of a folder to read them in\n",
    "                    image = imread(source_path+'/'+ t[folder + (batch*batch_size)].strip().split(';')[0]+'/'+imgs[item]).astype(np.float32)\n",
    "                    \n",
    "                    #crop the images and resize them. Note that the images are of 2 different shape \n",
    "                    #and the conv3D will throw error if the inputs in a batch have different shapes\n",
    "                    #print(\"before :\", image.shape)\n",
    "                    #image = crop_center(image, y, z)\n",
    "                    #image = np.resize(image, (y, z, 3))\n",
    "                    #print(\"after :\", image.shape)\n",
    "                    \n",
    "                    image = image_cropping(image)\n",
    "                    \n",
    "                    batch_data[folder,idx,:,:,0] = normalize_img(image)[:, :, 0] #normalise and feed in the image\n",
    "                    batch_data[folder,idx,:,:,1] = normalize_img(image)[:, :, 1] #normalise and feed in the image\n",
    "                    batch_data[folder,idx,:,:,2] = normalize_img(image)[:, :, 2] #normalise and feed in the image\n",
    "                    \n",
    "                    #batch_data[folder,idx,:,:,0] = image[:,:,0]/255\n",
    "                    #batch_data[folder,idx,:,:,1] = image[:,:,1]/255\n",
    "                    #batch_data[folder,idx,:,:,2] = image[:,:,2]/255\n",
    "                    \n",
    "                    \n",
    "                batch_labels[folder, int(t[folder + (batch*batch_size)].strip().split(';')[2])] = 1\n",
    "            yield batch_data, batch_labels #you yield the batch_data and the batch_labels, remember what does yield do\n",
    "\n",
    "        \n",
    "        # write the code for the remaining data points which are left after full batches\n",
    "        remaining_data = len(folder_list) % batch_size\n",
    "        num_batch = len(folder_list)//batch_size # calculate the number of batches\n",
    "        if (remaining_data > 0) :\n",
    "            batch_data = np.zeros((remaining_data,x,y,z,3)) # x is the number of images you use for each video, (y,z) is the final size of the input images and 3 is the number of channels RGB\n",
    "            batch_labels = np.zeros((remaining_data,5)) # batch_labels is the one hot representation of the output\n",
    "            for folder in range(remaining_data): # iterate over the batch_size\n",
    "                imgs = os.listdir(source_path+'/'+ t[folder + (num_batch*batch_size)].split(';')[0]) # read all the images in the folder\n",
    "                for idx,item in enumerate(img_idx): #  Iterate iver the frames/images of a folder to read them in\n",
    "                    image = imread(source_path+'/'+ t[folder + (num_batch*batch_size)].strip().split(';')[0]+'/'+imgs[item]).astype(np.float32)\n",
    "                    \n",
    "                    #crop the images and resize them. Note that the images are of 2 different shape \n",
    "                    #and the conv3D will throw error if the inputs in a batch have different shapes\n",
    "                    #print(\"before :\", image.shape)\n",
    "                    #image = crop_center(image, y, z)\n",
    "                    #image = np.resize(image, (y, z, 3))\n",
    "                    #print(\"after :\", image.shape)\n",
    "                    \n",
    "                    image = image_cropping(image)\n",
    "                    \n",
    "                    batch_data[folder,idx,:,:,0] = normalize_img(image)[:, :, 0] #normalise and feed in the image\n",
    "                    batch_data[folder,idx,:,:,1] = normalize_img(image)[:, :, 1] #normalise and feed in the image\n",
    "                    batch_data[folder,idx,:,:,2] = normalize_img(image)[:, :, 2] #normalise and feed in the image\n",
    "                    \n",
    "                    #batch_data[folder,idx,:,:,0] = image[:,:,0]/255\n",
    "                    #batch_data[folder,idx,:,:,1] = image[:,:,1]/255\n",
    "                    #batch_data[folder,idx,:,:,2] = image[:,:,2]/255\n",
    "\n",
    "                    \n",
    "                batch_labels[folder, int(t[folder + (num_batch*batch_size)].strip().split(';')[2])] = 1\n",
    "            yield batch_data, batch_labels #you yield the batch_data and the batch_labels, remember what does yield do\n"
   ]
  },
  {
   "cell_type": "code",
   "execution_count": 40,
   "metadata": {},
   "outputs": [],
   "source": [
    "def generator_cnn(source_path, folder_list, batch_size):\n",
    "    print( 'Source path = ', source_path, '; batch size =', batch_size)\n",
    "    print('length of folder list = ', len(folder_list))\n",
    "    \n",
    "    #img_idx = [0,3,5,7,10,13,15,18,20,23,27] #create a list of image numbers you want to use for a particular video\n",
    "    #img_idx = [7,8,9,10,11,12,13,14,15,19,20,21,22,23,24]\n",
    "    x = len(img_idx)\n",
    "    y = img_row\n",
    "    z = img_col\n",
    "\n",
    "    while True:\n",
    "        t = np.random.permutation(folder_list)\n",
    "        num_batches = (len(folder_list))//batch_size  # calculate the number of batches\n",
    "        num_img = (batch_size * x)                \n",
    "        for batch in range(num_batches): # we iterate over the number of batches\n",
    "            batch_data = np.zeros((num_img,y,z,3)) # x is the number of images you use for each video, (y,z) is the final size of the input images and 3 is the number of channels RGB\n",
    "            batch_labels = np.zeros((batch_size,5)) # batch_labels is the one hot representation of the output\n",
    "            for folder in range(batch_size): # iterate over the batch_size\n",
    "                imgs = os.listdir(source_path+'/'+ t[folder + (batch*batch_size)].split(';')[0]) # read all the images in the folder\n",
    "                for idx,item in enumerate(img_idx): #  Iterate iver the frames/images of a folder to read them in\n",
    "                    image = imread(source_path+'/'+ t[folder + (batch*batch_size)].strip().split(';')[0]+'/'+imgs[item]).astype(np.float32)\n",
    "                    \n",
    "                    #crop the images and resize them. Note that the images are of 2 different shape \n",
    "                    #and the conv3D will throw error if the inputs in a batch have different shapes\n",
    "                    #print(\"before :\", image.shape)\n",
    "                    #image = crop_center(image, y, z)\n",
    "                    #image = np.resize(image, (y, z, 3))\n",
    "                    #print(\"after :\", image.shape)\n",
    "                    \n",
    "                    image = image_cropping(image)\n",
    "                    \n",
    "                    batch_itr = idx + (folder * x)\n",
    "                    batch_data[batch_itr,:,:,0] = normalize_img(image)[:, :, 0] #normalise and feed in the image\n",
    "                    batch_data[batch_itr,:,:,1] = normalize_img(image)[:, :, 1] #normalise and feed in the image\n",
    "                    batch_data[batch_itr,:,:,2] = normalize_img(image)[:, :, 2] #normalise and feed in the image\n",
    "                    \n",
    "                    #batch_data[folder,idx,:,:,0] = image[:,:,0]/255\n",
    "                    #batch_data[folder,idx,:,:,1] = image[:,:,1]/255\n",
    "                    #batch_data[folder,idx,:,:,2] = image[:,:,2]/255\n",
    "                    \n",
    "                    \n",
    "                batch_labels[folder, int(t[folder + (batch*batch_size)].strip().split(';')[2])] = 1\n",
    "            yield batch_data, batch_labels #you yield the batch_data and the batch_labels, remember what does yield do\n",
    "\n",
    "        \n",
    "        # write the code for the remaining data points which are left after full batches\n",
    "        remaining_data = len(folder_list) % batch_size\n",
    "        num_batch = len(folder_list)//batch_size # calculate the number of batches\n",
    "        if (remaining_data > 0) :\n",
    "            batch_data = np.zeros((remaining_data*x,y,z,3)) # x is the number of images you use for each video, (y,z) is the final size of the input images and 3 is the number of channels RGB\n",
    "            batch_labels = np.zeros((remaining_data,5)) # batch_labels is the one hot representation of the output\n",
    "            for folder in range(remaining_data): # iterate over the batch_size\n",
    "                imgs = os.listdir(source_path+'/'+ t[folder + (num_batch*batch_size)].split(';')[0]) # read all the images in the folder\n",
    "                for idx,item in enumerate(img_idx): #  Iterate iver the frames/images of a folder to read them in\n",
    "                    image = imread(source_path+'/'+ t[folder + (num_batch*batch_size)].strip().split(';')[0]+'/'+imgs[item]).astype(np.float32)\n",
    "                    \n",
    "                    #crop the images and resize them. Note that the images are of 2 different shape \n",
    "                    #and the conv3D will throw error if the inputs in a batch have different shapes\n",
    "                    #print(\"before :\", image.shape)\n",
    "                    #image = crop_center(image, y, z)\n",
    "                    #image = np.resize(image, (y, z, 3))\n",
    "                    #print(\"after :\", image.shape)\n",
    "                    \n",
    "                    image = image_cropping(image)\n",
    "                    \n",
    "                    batch_itr = idx + (folder * x)   \n",
    "                    batch_data[batch_itr,:,:,0] = normalize_img(image)[:, :, 0] #normalise and feed in the image\n",
    "                    batch_data[batch_itr,:,:,1] = normalize_img(image)[:, :, 1] #normalise and feed in the image\n",
    "                    batch_data[folder,idx,:,:,2] = normalize_img(image)[:, :, 2] #normalise and feed in the image\n",
    "                    \n",
    "                    #batch_data[folder,idx,:,:,0] = image[:,:,0]/255\n",
    "                    #batch_data[folder,idx,:,:,1] = image[:,:,1]/255\n",
    "                    #batch_data[folder,idx,:,:,2] = image[:,:,2]/255\n",
    "\n",
    "                    \n",
    "                batch_labels[folder, int(t[folder + (num_batch*batch_size)].strip().split(';')[2])] = 1\n",
    "            yield batch_data, batch_labels #you yield the batch_data and the batch_labels, remember what does yield do\n"
   ]
  },
  {
   "cell_type": "markdown",
   "metadata": {},
   "source": [
    "Note here that a video is represented above in the generator as (number of images, height, width, number of channels). Take this into consideration while creating the model architecture."
   ]
  },
  {
   "cell_type": "code",
   "execution_count": 41,
   "metadata": {},
   "outputs": [
    {
     "name": "stdout",
     "output_type": "stream",
     "text": [
      "# training sequences = 663\n",
      "# validation sequences = 100\n",
      "# epochs = 15\n"
     ]
    }
   ],
   "source": [
    "curr_dt_time = datetime.datetime.now()\n",
    "train_path = './Project_data/train'\n",
    "val_path = './Project_data/val'\n",
    "num_train_sequences = len(train_doc)\n",
    "print('# training sequences =', num_train_sequences)\n",
    "num_val_sequences = len(val_doc)\n",
    "print('# validation sequences =', num_val_sequences)\n",
    "num_epochs = 15 # choose the number of epochs\n",
    "print ('# epochs =', num_epochs)"
   ]
  },
  {
   "cell_type": "markdown",
   "metadata": {},
   "source": [
    "## Model\n",
    "Here you make the model using different functionalities that Keras provides. Remember to use `Conv3D` and `MaxPooling3D` and not `Conv2D` and `Maxpooling2D` for a 3D convolution model. You would want to use `TimeDistributed` while building a Conv2D + RNN model. Also remember that the last layer is the softmax. Design the network in such a way that the model is able to give good accuracy on the least number of parameters so that it can fit in the memory of the webcam."
   ]
  },
  {
   "cell_type": "code",
   "execution_count": 42,
   "metadata": {},
   "outputs": [],
   "source": [
    "from keras.models import Sequential, Model\n",
    "from keras.layers import Dense, GRU, Flatten, TimeDistributed, Flatten, BatchNormalization, Activation, Dropout, Reshape\n",
    "from keras.layers.convolutional import Conv3D, MaxPooling3D, Conv2D, MaxPooling2D\n",
    "from keras.callbacks import ModelCheckpoint, ReduceLROnPlateau\n",
    "from keras import optimizers\n",
    "from keras.losses import categorical_crossentropy\n",
    "from keras.optimizers import Adadelta\n",
    "\n",
    "#img_rows = 100\n",
    "#img_cols = 100\n",
    "input_shape = (len(img_idx), img_row, img_col, 3)\n",
    "input_shape1 = (img_row, img_col, 3)\n"
   ]
  },
  {
   "cell_type": "code",
   "execution_count": 43,
   "metadata": {},
   "outputs": [],
   "source": [
    "#write your model here\n",
    "#Model1\n",
    "#model = Sequential()\n",
    "#model.add(Conv3D(32, kernel_size=(3, 3, 1),strides = (1,1,1), padding = 'same', activation='relu',input_shape=input_shape, data_format = 'channels_last'))\n",
    "#model.add(MaxPooling3D(pool_size=(2, 2, 1)))\n",
    "#model.add(Conv3D(64, kernel_size=(3, 3, 1),activation='relu'))\n",
    "#model.add(MaxPooling3D(pool_size=(2, 2, 1)))\n",
    "#model.add(Flatten())\n",
    "#model.add(Dense(256, activation='relu'))\n",
    "#model.add(Dense(5, activation='softmax'))\n"
   ]
  },
  {
   "cell_type": "code",
   "execution_count": 44,
   "metadata": {},
   "outputs": [],
   "source": [
    "#write your model here\n",
    "#model 2\n",
    "#model = Sequential()\n",
    "#model.add(Conv3D(32, kernel_size=(3, 3, 3), padding = 'same', activation = 'relu',input_shape=input_shape, data_format = 'channels_last'))\n",
    "#model.add(MaxPooling3D(pool_size=(1, 2, 2), strides = (1,2,2)))\n",
    "#model.add(Conv3D(32, kernel_size=(3, 3, 3), activation = 'relu'))\n",
    "#model.add(MaxPooling3D(pool_size=(1, 2, 2), strides = (1,2,2)))\n",
    "#model.add(Conv3D(32, kernel_size=(3, 3, 3), activation = 'relu'))\n",
    "#model.add(Conv3D(32, kernel_size=(3, 3, 3), activation = 'relu'))\n",
    "#model.add(MaxPooling3D(pool_size=(1, 2, 2), strides = (1,2,2)))\n",
    "#model.add(Conv3D(64, kernel_size=(2, 2, 2), activation = 'relu'))\n",
    "#model.add(Conv3D(64, kernel_size=(2, 2, 2), activation = 'relu'))\n",
    "#model.add(MaxPooling3D(pool_size=(1, 2, 2), strides = (1,2,2)))\n",
    "\n",
    "#model.add(Flatten())\n",
    "#model.add(Dense(128, activation='relu'))\n",
    "#model.add(Dropout(0.5))\n",
    "#model.add(Dense(5, activation='softmax'))\n"
   ]
  },
  {
   "cell_type": "code",
   "execution_count": 45,
   "metadata": {},
   "outputs": [],
   "source": [
    "#write your model here\n",
    "#model 3\n",
    "#model = Sequential()\n",
    "#model.add(Conv3D(32, kernel_size=(2, 2, 2),strides=(1, 1, 1), padding = 'sa#me', activation = 'relu',input_shape=input_shape, data_for#mat = 'channels_last'))\n",
    "#model.add(#maxPooling3D(pool_size=(1, 2, 2)))\n",
    "#model.add(Conv3D(32, kernel_size=(2, 2, 2), activation = 'relu'))\n",
    "#model.add(#maxPooling3D(pool_size=(1, 2, 2)))\n",
    "#model.add(Conv3D(32, kernel_size=(2, 2, 2), activation = 'relu'))\n",
    "#model.add(Conv3D(32, kernel_size=(2, 2, 2), activation = 'relu'))\n",
    "#model.add(#maxPooling3D(pool_size=(1, 2, 2)))\n",
    "#model.add(Conv3D(64, kernel_size=(2, 2, 2), activation = 'relu'))\n",
    "#model.add(Conv3D(64, kernel_size=(2, 2, 2), activation = 'relu'))\n",
    "#model.add(#maxPooling3D(pool_size=(1, 2, 2)))\n",
    "\n",
    "#model.add(Flatten())\n",
    "#model.add(Dense(128, activation='relu'))\n",
    "#model.add(Dropout(0.5))\n",
    "#model.add(Dense(5, activation='soft#max'))\n"
   ]
  },
  {
   "cell_type": "code",
   "execution_count": 46,
   "metadata": {},
   "outputs": [],
   "source": [
    "#write your model here\n",
    "#model 4\n",
    "#model = Sequential()\n",
    "#model.add(Conv3D(8, kernel_size=(3, 3, 3), padding = 'same', activation = 'relu',input_shape=input_shape, data_format = 'channels_last'))\n",
    "#model.add(Conv3D(16, kernel_size=(3, 3, 3), activation = 'relu'))\n",
    "#model.add(MaxPooling3D(pool_size=(2, 2, 1)))\n",
    "#model.add(Conv3D(32, kernel_size=(3, 3, 3), activation = 'relu'))\n",
    "#model.add(Conv3D(64, kernel_size=(3, 3, 3), activation = 'relu'))\n",
    "#model.add(MaxPooling3D(pool_size=(2, 2, 1)))\n",
    "#model.add(Conv3D(64, kernel_size=(1, 1, 1), activation = 'relu'))\n",
    "\n",
    "#model.add(Flatten())\n",
    "#model.add(Dense(256, activation='relu'))\n",
    "#model.add(Dropout(0.2))\n",
    "#model.add(Dense(5, activation='softmax'))\n"
   ]
  },
  {
   "cell_type": "code",
   "execution_count": 47,
   "metadata": {},
   "outputs": [],
   "source": [
    "#write your model here\n",
    "#model 5\n",
    "model = Sequential()\n",
    "model.add(Conv3D(8, kernel_size=(3, 3, 3), padding = 'same', activation = 'relu',input_shape=input_shape, data_format = 'channels_last'))\n",
    "model.add(Conv3D(16, kernel_size=(3, 3, 3), activation = 'relu'))\n",
    "model.add(MaxPooling3D(pool_size=(1, 2, 2)))\n",
    "model.add(Conv3D(32, kernel_size=(3, 3, 3), activation = 'relu'))\n",
    "model.add(Conv3D(64, kernel_size=(3, 3, 3), activation = 'relu'))\n",
    "model.add(MaxPooling3D(pool_size=(2, 2, 2)))\n",
    "model.add(Conv3D(64, kernel_size=(3, 3, 3), activation = 'relu'))\n",
    "\n",
    "model.add(Flatten())\n",
    "model.add(Dense(256, activation='relu'))\n",
    "model.add(Dropout(0.2))\n",
    "model.add(Dense(5, activation='softmax'))\n"
   ]
  },
  {
   "cell_type": "code",
   "execution_count": 48,
   "metadata": {},
   "outputs": [
    {
     "name": "stdout",
     "output_type": "stream",
     "text": [
      "(None, 27, 27, 128)\n",
      "(None, 27, 27, 256)\n",
      "(729, 256)\n",
      "(None, 729, 256)\n",
      "(None, 729, 64)\n"
     ]
    }
   ],
   "source": [
    "##### write code here\n",
    "#model 6 with CNN + GRU\n",
    "cnn_model = Sequential()\n",
    "cnn_model.add(Conv2D(32, kernel_size=(3,3), padding='same', activation = 'relu', input_shape=input_shape1))\n",
    "cnn_model.add(Conv2D(64, kernel_size=(3,3), activation = 'relu'))\n",
    "cnn_model.add(MaxPooling2D(pool_size=(2,2)))\n",
    "cnn_model.add(Conv2D(64, kernel_size=(3,3), activation = 'relu'))\n",
    "cnn_model.add(Conv2D(128, kernel_size=(3,3), activation = 'relu'))\n",
    "cnn_model.add(MaxPooling2D(pool_size=(2,2)))\n",
    "print(cnn_model.output_shape)\n",
    "cnn_model.add(Dense(256, activation='relu'))\n",
    "cnn_model.add(Dropout(0.2))\n",
    "print(cnn_model.output_shape)\n",
    "\n",
    "#l = cnn_model.layers[len(cnn_model.layers)-1]\n",
    "new_shape1 = (cnn_model.output_shape[1]* cnn_model.output_shape[2], cnn_model.output_shape[3])\n",
    "print(new_shape1)\n",
    "cnn_model.add(Reshape(new_shape1))\n",
    "print(cnn_model.output_shape)\n",
    "#model.add(GRU(120, return_sequences=True, input_shape=new_shape))\n",
    "cnn_model.add(GRU(64, return_sequences=True, activation='relu' ))\n",
    "print(cnn_model.output_shape)\n",
    "cnn_model.add(Reshape((cnn_model.output_shape[1],cnn_model.output_shape[2], 1) ))\n",
    "cnn_model.add(TimeDistributed(Dense(1)))\n",
    "\n",
    "cnn_model.add(Flatten())\n",
    "cnn_model.add(Dense(5, activation='softmax'))\n"
   ]
  },
  {
   "cell_type": "markdown",
   "metadata": {},
   "source": [
    "Now that you have written the model, the next step is to `compile` the model. When you print the `summary` of the model, you'll see the total number of parameters you have to train."
   ]
  },
  {
   "cell_type": "code",
   "execution_count": 49,
   "metadata": {
    "scrolled": false
   },
   "outputs": [
    {
     "name": "stdout",
     "output_type": "stream",
     "text": [
      "_________________________________________________________________\n",
      "Layer (type)                 Output Shape              Param #   \n",
      "=================================================================\n",
      "conv3d_6 (Conv3D)            (None, 15, 120, 120, 8)   656       \n",
      "_________________________________________________________________\n",
      "conv3d_7 (Conv3D)            (None, 13, 118, 118, 16)  3472      \n",
      "_________________________________________________________________\n",
      "max_pooling3d_3 (MaxPooling3 (None, 13, 59, 59, 16)    0         \n",
      "_________________________________________________________________\n",
      "conv3d_8 (Conv3D)            (None, 11, 57, 57, 32)    13856     \n",
      "_________________________________________________________________\n",
      "conv3d_9 (Conv3D)            (None, 9, 55, 55, 64)     55360     \n",
      "_________________________________________________________________\n",
      "max_pooling3d_4 (MaxPooling3 (None, 4, 27, 27, 64)     0         \n",
      "_________________________________________________________________\n",
      "conv3d_10 (Conv3D)           (None, 2, 25, 25, 64)     110656    \n",
      "_________________________________________________________________\n",
      "flatten_3 (Flatten)          (None, 80000)             0         \n",
      "_________________________________________________________________\n",
      "dense_6 (Dense)              (None, 256)               20480256  \n",
      "_________________________________________________________________\n",
      "dropout_3 (Dropout)          (None, 256)               0         \n",
      "_________________________________________________________________\n",
      "dense_7 (Dense)              (None, 5)                 1285      \n",
      "=================================================================\n",
      "Total params: 20,665,541\n",
      "Trainable params: 20,665,541\n",
      "Non-trainable params: 0\n",
      "_________________________________________________________________\n",
      "None\n",
      "_________________________________________________________________\n",
      "Layer (type)                 Output Shape              Param #   \n",
      "=================================================================\n",
      "conv2d_5 (Conv2D)            (None, 120, 120, 32)      896       \n",
      "_________________________________________________________________\n",
      "conv2d_6 (Conv2D)            (None, 118, 118, 64)      18496     \n",
      "_________________________________________________________________\n",
      "max_pooling2d_3 (MaxPooling2 (None, 59, 59, 64)        0         \n",
      "_________________________________________________________________\n",
      "conv2d_7 (Conv2D)            (None, 57, 57, 64)        36928     \n",
      "_________________________________________________________________\n",
      "conv2d_8 (Conv2D)            (None, 55, 55, 128)       73856     \n",
      "_________________________________________________________________\n",
      "max_pooling2d_4 (MaxPooling2 (None, 27, 27, 128)       0         \n",
      "_________________________________________________________________\n",
      "dense_8 (Dense)              (None, 27, 27, 256)       33024     \n",
      "_________________________________________________________________\n",
      "dropout_4 (Dropout)          (None, 27, 27, 256)       0         \n",
      "_________________________________________________________________\n",
      "reshape_3 (Reshape)          (None, 729, 256)          0         \n",
      "_________________________________________________________________\n",
      "gru_2 (GRU)                  (None, 729, 64)           61632     \n",
      "_________________________________________________________________\n",
      "reshape_4 (Reshape)          (None, 729, 64, 1)        0         \n",
      "_________________________________________________________________\n",
      "time_distributed_2 (TimeDist (None, 729, 64, 1)        2         \n",
      "_________________________________________________________________\n",
      "flatten_4 (Flatten)          (None, 46656)             0         \n",
      "_________________________________________________________________\n",
      "dense_10 (Dense)             (None, 5)                 233285    \n",
      "=================================================================\n",
      "Total params: 458,119\n",
      "Trainable params: 458,119\n",
      "Non-trainable params: 0\n",
      "_________________________________________________________________\n",
      "None\n"
     ]
    }
   ],
   "source": [
    "optimiser = optimizers.SGD(lr=0.01) #write your optimizer\n",
    "#optimiser = optimizers.Adam()\n",
    "#optimiser = Adadelta(lr=0.1)\n",
    "model.compile(optimizer=optimiser, loss='categorical_crossentropy', metrics=['categorical_accuracy'])\n",
    "print (model.summary())\n",
    "\n",
    "cnn_model.compile(optimizer=optimiser, loss='categorical_crossentropy', metrics=['categorical_accuracy'])\n",
    "print (cnn_model.summary())"
   ]
  },
  {
   "cell_type": "markdown",
   "metadata": {},
   "source": [
    "Let us create the `train_generator` and the `val_generator` which will be used in `.fit_generator`."
   ]
  },
  {
   "cell_type": "code",
   "execution_count": 50,
   "metadata": {},
   "outputs": [],
   "source": [
    "train_generator = generator(train_path, train_doc, batch_size)\n",
    "val_generator = generator(val_path, val_doc, batch_size)\n",
    "\n",
    "train_generator_cnn = generator_cnn(train_path, train_doc, batch_size)\n",
    "val_generator_cnn = generator_cnn(val_path, val_doc, batch_size)"
   ]
  },
  {
   "cell_type": "code",
   "execution_count": 51,
   "metadata": {},
   "outputs": [],
   "source": [
    "model_name = 'model_init' + '_' + str(curr_dt_time).replace(' ','').replace(':','_') + '/'\n",
    "    \n",
    "if not os.path.exists(model_name):\n",
    "    os.mkdir(model_name)\n",
    "        \n",
    "filepath = model_name + 'model-{epoch:05d}-{loss:.5f}-{categorical_accuracy:.5f}-{val_loss:.5f}-{val_categorical_accuracy:.5f}.h5'\n",
    "\n",
    "checkpoint = ModelCheckpoint(filepath, monitor='val_loss', verbose=1, save_best_only=False, save_weights_only=False, mode='auto', period=1)\n",
    "\n",
    "LR = ReduceLROnPlateau(monitor='val_loss', factor=0.5, patience=2, min_lr=0.00001, cooldown=1) # write the REducelronplateau code here\n",
    "callbacks_list = [checkpoint, LR]"
   ]
  },
  {
   "cell_type": "markdown",
   "metadata": {},
   "source": [
    "The `steps_per_epoch` and `validation_steps` are used by `fit_generator` to decide the number of next() calls it need to make."
   ]
  },
  {
   "cell_type": "code",
   "execution_count": 52,
   "metadata": {},
   "outputs": [],
   "source": [
    "if (num_train_sequences%batch_size) == 0:\n",
    "    steps_per_epoch = int(num_train_sequences/batch_size)\n",
    "else:\n",
    "    steps_per_epoch = (num_train_sequences//batch_size) + 1\n",
    "\n",
    "if (num_val_sequences%batch_size) == 0:\n",
    "    validation_steps = int(num_val_sequences/batch_size)\n",
    "else:\n",
    "    validation_steps = (num_val_sequences//batch_size) + 1"
   ]
  },
  {
   "cell_type": "markdown",
   "metadata": {},
   "source": [
    "Let us now fit the model. This will start training the model and with the help of the checkpoints, you'll be able to save the model at the end of each epoch."
   ]
  },
  {
   "cell_type": "code",
   "execution_count": null,
   "metadata": {
    "scrolled": false
   },
   "outputs": [
    {
     "name": "stdout",
     "output_type": "stream",
     "text": [
      "Source path =  ./Project_data/val ; batch size = 32\n",
      "length of folder list =  100\n",
      "Source path =  ./Project_data/train ; batch size = 32\n",
      "length of folder list =  663\n",
      "Epoch 1/15\n"
     ]
    },
    {
     "name": "stderr",
     "output_type": "stream",
     "text": [
      "/mnt/disks/user/anaconda3/lib/python3.6/site-packages/ipykernel_launcher.py:20: DeprecationWarning: `imread` is deprecated!\n",
      "`imread` is deprecated in SciPy 1.0.0, and will be removed in 1.2.0.\n",
      "Use ``imageio.imread`` instead.\n",
      "/mnt/disks/user/anaconda3/lib/python3.6/site-packages/ipykernel_launcher.py:53: DeprecationWarning: `imread` is deprecated!\n",
      "`imread` is deprecated in SciPy 1.0.0, and will be removed in 1.2.0.\n",
      "Use ``imageio.imread`` instead.\n"
     ]
    },
    {
     "name": "stdout",
     "output_type": "stream",
     "text": [
      "21/21 [==============================] - 111s 5s/step - loss: 1.5975 - categorical_accuracy: 0.2287 - val_loss: 1.5645 - val_categorical_accuracy: 0.3300\n",
      "\n",
      "Epoch 00001: saving model to model_init_2019-09-2219_14_49.234678/model-00001-1.59778-0.22775-1.56448-0.33000.h5\n",
      "Epoch 2/15\n",
      "20/21 [===========================>..] - ETA: 1s - loss: 1.5666 - categorical_accuracy: 0.2687"
     ]
    }
   ],
   "source": [
    "model.fit_generator(train_generator, steps_per_epoch=steps_per_epoch, epochs=num_epochs, verbose=1, \n",
    "                    callbacks=callbacks_list, validation_data=val_generator, \n",
    "                    validation_steps=validation_steps, class_weight=None, workers=1, initial_epoch=0)"
   ]
  },
  {
   "cell_type": "code",
   "execution_count": null,
   "metadata": {},
   "outputs": [],
   "source": [
    "cnn_model.fit_generator(train_generator_cnn, steps_per_epoch=steps_per_epoch, epochs=num_epochs, verbose=1, \n",
    "                    callbacks=callbacks_list, validation_data=val_generator_cnn, \n",
    "                    validation_steps=validation_steps, class_weight=None, workers=1, initial_epoch=0)"
   ]
  },
  {
   "cell_type": "code",
   "execution_count": null,
   "metadata": {},
   "outputs": [],
   "source": []
  }
 ],
 "metadata": {
  "kernelspec": {
   "display_name": "Python 3",
   "language": "python",
   "name": "python3"
  },
  "language_info": {
   "codemirror_mode": {
    "name": "ipython",
    "version": 3
   },
   "file_extension": ".py",
   "mimetype": "text/x-python",
   "name": "python",
   "nbconvert_exporter": "python",
   "pygments_lexer": "ipython3",
   "version": "3.6.8"
  }
 },
 "nbformat": 4,
 "nbformat_minor": 2
}
